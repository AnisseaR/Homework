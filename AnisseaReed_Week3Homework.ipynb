{
 "cells": [
  {
   "cell_type": "markdown",
   "id": "1a4d65d6",
   "metadata": {},
   "source": [
    "# Data Types\n",
    "\n",
    "1. An algorithm is a series of steps to solve a problem at hand.\n",
    "1. A number or special characters\n",
    "1. A semantic error is an error that occurs when code is grammactically correct but doesnt produce the correct result.\n",
    "1. Complexity is the enemy of efficency!\n",
    "1. None, else, nonlocal, elif, except"
   ]
  },
  {
   "cell_type": "code",
   "execution_count": 14,
   "id": "e22b3a89",
   "metadata": {},
   "outputs": [
    {
     "name": "stdout",
     "output_type": "stream",
     "text": [
      "Hi, I'm Anissea.\n",
      "My favorite food is tacos.\n",
      "My dream job is to be a CEO.\n"
     ]
    }
   ],
   "source": [
    "name= \"Anissea\"\n",
    "favorite_food= \"tacos\"\n",
    "dream_job= \"CEO\"\n",
    "print (f\"\"\"Hi, I'm {name}.\n",
    "My favorite food is {favorite_food}.\n",
    "My dream job is to be a {dream_job}.\"\"\")\n"
   ]
  },
  {
   "cell_type": "code",
   "execution_count": 15,
   "id": "9be679b4",
   "metadata": {},
   "outputs": [
    {
     "name": "stdout",
     "output_type": "stream",
     "text": [
      "7\n",
      "s\n"
     ]
    }
   ],
   "source": [
    "#string\n",
    "name= \"Anissea\"\n",
    "#integer\n",
    "age= 24\n",
    "#float\n",
    "height= 5.4\n",
    "#boolean\n",
    "is_student= True\n",
    "#list\n",
    "favorite_colors= [\"pink\", \"red\", \"black\"]\n",
    "\n",
    "print(len(name))\n",
    "print(name[3])"
   ]
  },
  {
   "cell_type": "code",
   "execution_count": 16,
   "id": "8de664ba",
   "metadata": {},
   "outputs": [
    {
     "name": "stdout",
     "output_type": "stream",
     "text": [
      "ing Data Analytics\n",
      "Learning Data Analytics and Python is great!\n"
     ]
    }
   ],
   "source": [
    "savvy= \"Learning Data Analytics and Python is Awesome!\"\n",
    "print(savvy[5:23])\n",
    "savvy= savvy.replace(\"Awesome\", \"great\")\n",
    "print(savvy)"
   ]
  },
  {
   "cell_type": "code",
   "execution_count": null,
   "id": "848a2c7c",
   "metadata": {},
   "outputs": [
    {
     "name": "stdout",
     "output_type": "stream",
     "text": [
      "Hi my name is Anissea, I am 5.4 and 24 years old today.\n",
      "24.0\n"
     ]
    }
   ],
   "source": [
    "my_name= \"Anissea\"\n",
    "my_age= 24\n",
    "my_lenghth= 5.4\n",
    "miniBio= f\"Hi my name is {my_name}, I am {my_lenghth} and {my_age} years old today.\"\n",
    "print(miniBio)\n",
    "print(float(my_age))"
   ]
  },
  {
   "cell_type": "code",
   "execution_count": null,
   "id": "930314d3",
   "metadata": {},
   "outputs": [
    {
     "name": "stdout",
     "output_type": "stream",
     "text": [
      "['Anissea', 24, 5.4, True, ['pink', 'red', 'black']]\n",
      "['Anissea', 24, 5.4, False, ['pink', 'red', 'black'], 'tacos', 'seafood', 'fruit', 'soup', 'pizza', 'chocolate', 'ice cream']\n",
      "12\n",
      "['tacos', 'seafood', 'fruit', 'soup', 'pizza', 'chocolate', 'ice cream']\n",
      "['Anissea', 24, 5.4, False, ['pink', 'red', 'black'], 'tacos', 'seafood', 'fruit', 'soup', 'pizza', 'chocolate', 'ice cream', 'tacos', 'seafood', 'fruit', 'soup', 'pizza', 'chocolate', 'ice cream']\n",
      "[10, 20, 30, 40, 50]\n",
      "[10, 20, 30, 40, 50]\n",
      "['tacos', 'seafood', 'fruit', 'soup', 'pizza', 'chocolate', 'ice cream', 10, 20, 30, 40, 50]\n"
     ]
    }
   ],
   "source": [
    "my_list= [\"Anissea\", 24, 5.4, True, [\"pink\", \"red\", \"black\"]]\n",
    "print(my_list) \n",
    "\n",
    "my_list[3]= False\n",
    "\n",
    "my_list.append(\"tacos\")\n",
    "my_list.append(\"seafood\")\n",
    "my_list.append(\"fruit\")\n",
    "my_list.append(\"soup\")\n",
    "my_list.append(\"pizza\")\n",
    "my_list.append(\"chocolate\")\n",
    "my_list.append(\"ice cream\")\n",
    "print(my_list)\n",
    "\n",
    "print(len(my_list))\n",
    "\n",
    "my_list2= my_list[5:12]\n",
    "print(my_list2)\n",
    "\n",
    "my_list.extend(my_list2)\n",
    "print(my_list)\n",
    "\n",
    "simList= [50, 40, 30, 20, 10]\n",
    "simList.sort()\n",
    "print(simList)\n",
    "\n",
    "my_list3= simList.copy()\n",
    "print(my_list3)\n",
    "\n",
    "my_list4= my_list2 + simList\n",
    "print(my_list4) "
   ]
  },
  {
   "cell_type": "code",
   "execution_count": null,
   "id": "6e3f8671",
   "metadata": {},
   "outputs": [
    {
     "name": "stdout",
     "output_type": "stream",
     "text": [
      "(1, 2, 3, 4, 5, 1, 2, 3, 4, 5, 1, 2, 3, 4, 5)\n",
      "2\n",
      "(1, 1, 1, 2, 2, 2, 3, 3, 3, 4, 4, 4, 5, 5, 5)\n",
      "(1, 2, 2, 2)\n",
      "1\n",
      "2\n",
      "2\n",
      "2\n",
      "(50,)\n",
      "(1, 1, 1, 2, 2, 2, 3, 3, 3, 4, 4, 4, 5, 5, 5, 1, 2, 2, 2)\n"
     ]
    }
   ],
   "source": [
    "a_tuple= (1, 2, 3, 4, 5)\n",
    "b_tuple= a_tuple * 3\n",
    "print(b_tuple)\n",
    "\n",
    "print(b_tuple[11])\n",
    "\n",
    "sorted_btuple = sorted(b_tuple)\n",
    "b_tuple = tuple(sorted_btuple) \n",
    "print(b_tuple)\n",
    "\n",
    "c_tuple= b_tuple[2:6]\n",
    "print(c_tuple)\n",
    "\n",
    "a, b, c, d = c_tuple\n",
    "print(a)\n",
    "print(b)\n",
    "print(c)\n",
    "print(d)\n",
    "\n",
    "d_tuple= (50,)\n",
    "print(d_tuple)\n",
    "\n",
    "e_tuple= b_tuple + c_tuple\n",
    "print(e_tuple)"
   ]
  },
  {
   "cell_type": "code",
   "execution_count": null,
   "id": "b883347c",
   "metadata": {},
   "outputs": [
    {
     "name": "stdout",
     "output_type": "stream",
     "text": [
      "{1, 2, 3}\n",
      "{1, 2, 3, 'strawberry', 'pineapple', 'blackberry'}\n",
      "{1, 2, 3, 'Jeep', 'strawberry', 'pineapple', 'blackberry'}\n",
      "{False, 3.14, 'sharpie', 222}\n",
      "{False, 1, 2, 3, 3.14, 'Jeep', 'sharpie', 'strawberry', 'pineapple', 'blackberry', 222}\n",
      "{3.14, 'sharpie', 222}\n",
      "set()\n",
      "{2, 3, 3.14, 'Jeep', 'sharpie', 'strawberry', 'pineapple', 'blackberry', 222}\n"
     ]
    }
   ],
   "source": [
    "a_set= {1, 2, 3}\n",
    "print(a_set)\n",
    "\n",
    "a_list= [\"blackberry\", \"pineapple\", \"strawberry\"]\n",
    "a_set.update(a_list)\n",
    "print(a_set)\n",
    "\n",
    "a_set.add(\"Jeep\")\n",
    "print(a_set)\n",
    "\n",
    "b_set= {222, \"sharpie\", 3.14, False}\n",
    "print(b_set)\n",
    "\n",
    "c_set= a_set.union(b_set)\n",
    "print(c_set)\n",
    "\n",
    "b_set.pop()\n",
    "print(b_set)\n",
    "\n",
    "a_set.clear()\n",
    "print(a_set)    \n",
    "\n",
    "c_set.remove(False)\n",
    "c_set.discard(1)\n",
    "print(c_set)"
   ]
  },
  {
   "cell_type": "code",
   "execution_count": 37,
   "id": "a1995469",
   "metadata": {},
   "outputs": [
    {
     "name": "stdout",
     "output_type": "stream",
     "text": [
      "Unknown\n",
      "Anissea\n",
      "{'Owner': 'Anissea', 'Brand': 'Apple', 'Model': 'iPhone 14', 'Storage': '128GB', 'Color': 'Purple', 'Favorite_Color': 'Pink'}\n",
      "{'Owner': 'Anissea', 'Brand': 'Apple', 'Model': 'iPhone 14', 'Storage': '128GB', 'Color': 'Purple', 'Favorite_Color': 'Pink', 'Office_Items': ['Pen', 'Mouse', 'Charger']}\n",
      "{'Owner': 'Anissea', 'Brand': 'Apple', 'Model': 'iPhone 14', 'Storage': '128GB', 'Color': 'Purple', 'Favorite_Color': 'Pink'}\n",
      "{}\n"
     ]
    }
   ],
   "source": [
    "phone= {\"Owner\": \"Unknown\", \"Brand\": \"Apple\", \"Model\": \"iPhone 14\", \"Storage\": \"128GB\", \"Color\": \"Purple\"}\n",
    "print(phone[\"Owner\"])\n",
    "\n",
    "phone[\"Owner\"]= \"Anissea\"\n",
    "print(phone[\"Owner\"])\n",
    "\n",
    "phone[\"Favorite_Color\"]= \"Pink\"\n",
    "print(phone)\n",
    "\n",
    "phone[\"Office_Items\"]=[\"Pen\", \"Mouse\", \"Charger\"]\n",
    "print(phone)\n",
    "\n",
    "phone.keys()\n",
    "phone.values()\n",
    "\n",
    "phone_2= phone.copy()\n",
    "phone_2.pop(\"Office_Items\")\n",
    "print(phone_2)\n",
    "\n",
    "phone_2.clear()\n",
    "print(phone_2)"
   ]
  }
 ],
 "metadata": {
  "kernelspec": {
   "display_name": "Python 3",
   "language": "python",
   "name": "python3"
  },
  "language_info": {
   "codemirror_mode": {
    "name": "ipython",
    "version": 3
   },
   "file_extension": ".py",
   "mimetype": "text/x-python",
   "name": "python",
   "nbconvert_exporter": "python",
   "pygments_lexer": "ipython3",
   "version": "3.13.5"
  }
 },
 "nbformat": 4,
 "nbformat_minor": 5
}
