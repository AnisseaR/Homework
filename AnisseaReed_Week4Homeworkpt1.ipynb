{
 "cells": [
  {
   "cell_type": "markdown",
   "id": "af415546",
   "metadata": {},
   "source": [
    "### Anissea Reed - Homework Section 4 \n",
    "------------\n",
    "1. To use a module one must import the retrospective module into our code base by using the import statement.\n",
    "\n",
    "1. The Math Module (see Example 1 below)\n",
    "\n",
    "1. The benefit of using Exception Handling is the fact that it allows Python to generate a message called an exception when an error or exception occurs in a called block of code. So when an error is raised, an except block will be executed. Without the try block, the program will crash. With this program we can get past many errors.\n",
    "\n",
    "1. The four components used for Python Exception Handling are:\n",
    "    * The try block which allows you to test a block of code for errors.\n",
    "    * The except block which allows you to handle the error.\n",
    "    * The else block which allows you to execute code when there is no error.\n",
    "    * The finally block which allows you to execute code, regardless of the result of the try- and except blocks.\n",
    "\n",
    "5. NumPy Arrays are similar to lists except lists store various data types, while Arrays store only 1 specified data type.\n",
    "\n",
    "1. One of the main benefits of using NumPy Arrays is efficeincy, it's faster (compared to lists) and occupies less memory.\n",
    "\n",
    "1. One of the main requirements about the 'dtype' of NumPy Arrays is all values in the Array must be the same type.\n",
    "\n",
    "1. 2 uses of Numpy:\n",
    "    * Copying and viewing Arrays\n",
    "    * Mathmatical Operations\n",
    "\n",
    "9. Pandas, Matplotlib, SciPy\n",
    "\n",
    "1. The shape of Arrays depends on the dimensions.\n",
    "    * A 1D Array is a linear shape.\n",
    "    * A 2D Array has columns and rows.\n",
    "    * A 3D Array is like a cube and has columns, rows, and depth.\n",
    "\n",
    "11. A Tensor is an Array with 3+ dimensions.\n",
    "\n",
    "1. It's better to use NumPy than Python lists for Data Analysis because they occupy less memory, their faster, and more convenient. \n",
    "\n",
    "1. When creating an \"empty\" Array, the elements are random and depend on the memory allocated for the Array. "
   ]
  },
  {
   "cell_type": "code",
   "execution_count": null,
   "id": "23fff93f",
   "metadata": {},
   "outputs": [
    {
     "name": "stdout",
     "output_type": "stream",
     "text": [
      "Sum of List_1 is  15.0\n"
     ]
    }
   ],
   "source": [
    "# Example 1\n",
    "# Sum of List using Math module\n",
    "import math\n",
    "list_1= [1, 2, 3, 4, 5]\n",
    "print (\"Sum of List_1 is \", math.fsum(list_1))"
   ]
  },
  {
   "cell_type": "markdown",
   "id": "06de99a4",
   "metadata": {},
   "source": [
    "## Flow Control Methods:"
   ]
  },
  {
   "cell_type": "code",
   "execution_count": 12,
   "id": "05748bbf",
   "metadata": {},
   "outputs": [
    {
     "name": "stdout",
     "output_type": "stream",
     "text": [
      "Renting a car is more affordable.\n"
     ]
    }
   ],
   "source": [
    "# Question 1:\n",
    "# Creating an if statement about renting a car based on age \n",
    "age = 30\n",
    "if age >= 25:\n",
    "    print(\"Renting a car is more affordable.\")\n",
    "else:\n",
    "    print(\"Renting a car is very expensive.\")"
   ]
  },
  {
   "cell_type": "code",
   "execution_count": null,
   "id": "c452474a",
   "metadata": {},
   "outputs": [
    {
     "name": "stdout",
     "output_type": "stream",
     "text": [
      "Renting a car is very expensive.\n"
     ]
    }
   ],
   "source": [
    "#Question 2:\n",
    "# Create an elif statement about renting a car based on age\n",
    "age = 30\n",
    "    print(\"Renting a car is more affordable.\")\n",
    "elif age < 25 and 20\n",
    "age >= 18:\n",
    "    print(\"Renting a car is very expensive.\")\n",
    "else:\n",
    "    print(\"You cannot legally rent a car.\")"
   ]
  },
  {
   "cell_type": "code",
   "execution_count": null,
   "id": "dd6a04c7",
   "metadata": {},
   "outputs": [
    {
     "name": "stdout",
     "output_type": "stream",
     "text": [
      "Total number of characters in the sentence is: 43\n",
      "e\n",
      "u\n",
      "i\n",
      "o\n",
      "o\n",
      "u\n",
      "o\n",
      "e\n",
      "e\n",
      "a\n",
      "o\n"
     ]
    }
   ],
   "source": [
    "#Question 3:\n",
    "# Counting characters in a sentence using a for loop\n",
    "sentence= \"The quick brown fox jumps over the lazy dog\"\n",
    "count = 0\n",
    "for char in sentence:\n",
    "    count = count + 1\n",
    "print(\"Total number of characters in the sentence is:\", count)  \n",
    "\n",
    "# Counting vowels in a sentence using a while loop\n",
    "position = 0\n",
    "while position < len(sentence):\n",
    "    if sentence[position] in 'aeiouAEIOU':\n",
    "        print(sentence[position])\n",
    "    position += 1"
   ]
  },
  {
   "cell_type": "code",
   "execution_count": null,
   "id": "9c5eafa1",
   "metadata": {},
   "outputs": [
    {
     "name": "stdout",
     "output_type": "stream",
     "text": [
      "cerise trousers\n",
      "fuchsia trousers\n",
      "agua trousers\n",
      "maple trousers\n",
      "auburn trousers\n",
      "burnt sienna trousers\n",
      "gunmetal blue trousers\n",
      "Dark Sapphire trousers\n",
      "cerise blouse\n",
      "fuchsia blouse\n",
      "agua blouse\n",
      "maple blouse\n",
      "auburn blouse\n",
      "burnt sienna blouse\n",
      "gunmetal blue blouse\n",
      "Dark Sapphire blouse\n",
      "cerise bandana\n",
      "fuchsia bandana\n",
      "agua bandana\n",
      "maple bandana\n",
      "auburn bandana\n",
      "burnt sienna bandana\n",
      "gunmetal blue bandana\n",
      "Dark Sapphire bandana\n",
      "cerise cumber band\n",
      "fuchsia cumber band\n",
      "agua cumber band\n",
      "maple cumber band\n",
      "auburn cumber band\n",
      "burnt sienna cumber band\n",
      "gunmetal blue cumber band\n",
      "Dark Sapphire cumber band\n",
      "cerise blazer\n",
      "fuchsia blazer\n",
      "agua blazer\n",
      "maple blazer\n",
      "auburn blazer\n",
      "burnt sienna blazer\n",
      "gunmetal blue blazer\n",
      "Dark Sapphire blazer\n",
      "cerise vest\n",
      "fuchsia vest\n",
      "agua vest\n",
      "maple vest\n",
      "auburn vest\n",
      "burnt sienna vest\n",
      "gunmetal blue vest\n",
      "Dark Sapphire vest\n",
      "cerise french beret\n",
      "fuchsia french beret\n",
      "agua french beret\n",
      "maple french beret\n",
      "auburn french beret\n",
      "burnt sienna french beret\n",
      "gunmetal blue french beret\n",
      "Dark Sapphire french beret\n",
      "cerise scarf\n",
      "fuchsia scarf\n",
      "agua scarf\n",
      "maple scarf\n",
      "auburn scarf\n",
      "burnt sienna scarf\n",
      "gunmetal blue scarf\n",
      "Dark Sapphire scarf\n",
      "cerise stole\n",
      "fuchsia stole\n",
      "agua stole\n",
      "maple stole\n",
      "auburn stole\n",
      "burnt sienna stole\n",
      "gunmetal blue stole\n",
      "Dark Sapphire stole\n"
     ]
    }
   ],
   "source": [
    "# Question 4:\n",
    "# Creating a Nested loop for various clothing and color combinations\n",
    "couture = [\"trousers\", \"blouse\", \"bandana\", \"cumber band\", \"blazer\", \"vest\", \"french beret\", \"scarf\", \"stole\" ]\n",
    "panettone = [\"cerise\", \"fuchsia\", \"agua\", \"maple\", \"auburn\", \"burnt sienna\", \"gunmetal blue\", \"Dark Sapphire\"]\n",
    "for item in couture:\n",
    "    for color in panettone:\n",
    "        print(color, item)"
   ]
  },
  {
   "cell_type": "code",
   "execution_count": null,
   "id": "a3e78370",
   "metadata": {},
   "outputs": [
    {
     "name": "stdout",
     "output_type": "stream",
     "text": [
      "The sum of all numbers from 1 to 100 is: 5050\n"
     ]
    }
   ],
   "source": [
    "# Question 5:\n",
    "# Using range as a loop to calculate the sum of all numbers 1-100\n",
    "total = 0\n",
    "for num in range(1, 101):\n",
    "    total = total + num\n",
    "print(\"The sum of all numbers from 1 to 100 is:\", total)"
   ]
  },
  {
   "cell_type": "code",
   "execution_count": null,
   "id": "94f48977",
   "metadata": {},
   "outputs": [
    {
     "name": "stdout",
     "output_type": "stream",
     "text": [
      "banana\n"
     ]
    }
   ],
   "source": [
    "# Question 6:\n",
    "# Accessing elements in a list by index\n",
    "fruits = [\"apple\", \"banana\", \"cherry\"]\n",
    "print(fruits[1])"
   ]
  },
  {
   "cell_type": "code",
   "execution_count": 23,
   "id": "fc01f114",
   "metadata": {},
   "outputs": [
    {
     "name": "stdout",
     "output_type": "stream",
     "text": [
      "['kiwi', 'banana', 'cherry']\n"
     ]
    }
   ],
   "source": [
    "# Question 7:\n",
    "# Changing a value in a list by index\n",
    "fruits = [\"apple\", \"banana\", \"cherry\"]\n",
    "fruits[0] = \"kiwi\"\n",
    "print(fruits)"
   ]
  },
  {
   "cell_type": "code",
   "execution_count": 24,
   "id": "cc1fc5d2",
   "metadata": {},
   "outputs": [
    {
     "name": "stdout",
     "output_type": "stream",
     "text": [
      "['apple', 'banana', 'cherry', 'orange']\n"
     ]
    }
   ],
   "source": [
    "# Question 8:\n",
    "# Appending a value to a list\n",
    "fruits = [\"apple\", \"banana\", \"cherry\"]\n",
    "fruits.append(\"orange\")\n",
    "print(fruits)"
   ]
  },
  {
   "cell_type": "code",
   "execution_count": 25,
   "id": "c1ac40cb",
   "metadata": {},
   "outputs": [
    {
     "name": "stdout",
     "output_type": "stream",
     "text": [
      "['apple', 'lemon', 'banana', 'cherry']\n"
     ]
    }
   ],
   "source": [
    "# Question 9:\n",
    "# Using the insert method to add an item at a specific index in a list\n",
    "fruits = [\"apple\", \"banana\", \"cherry\"]\n",
    "fruits.insert(1, \"lemon\")\n",
    "print(fruits)"
   ]
  },
  {
   "cell_type": "code",
   "execution_count": 26,
   "id": "29b1ba81",
   "metadata": {},
   "outputs": [
    {
     "name": "stdout",
     "output_type": "stream",
     "text": [
      "['apple', 'cherry']\n"
     ]
    }
   ],
   "source": [
    "# Question 10:\n",
    "# Using the remove method to delete an item from a list\n",
    "fruits = [\"apple\", \"banana\", \"cherry\"]\n",
    "fruits.remove(\"banana\")\n",
    "print(fruits)"
   ]
  },
  {
   "cell_type": "code",
   "execution_count": 33,
   "id": "d3aabcaa",
   "metadata": {},
   "outputs": [
    {
     "name": "stdout",
     "output_type": "stream",
     "text": [
      "['kiwi', 'melon']\n"
     ]
    }
   ],
   "source": [
    "# Question 11:\n",
    "# Using negative indexing to access elements in a list\n",
    "fruits = [\"apple\", \"banana\", \"cherry\", \"orange\", \"kiwi\", \"melon\", \"mango\"]\n",
    "print(fruits[-3:-1])"
   ]
  },
  {
   "cell_type": "code",
   "execution_count": 34,
   "id": "ef7cf835",
   "metadata": {},
   "outputs": [
    {
     "name": "stdout",
     "output_type": "stream",
     "text": [
      "['cherry', 'orange', 'kiwi']\n"
     ]
    }
   ],
   "source": [
    "# Question 12:\n",
    "# Using list slicing to access a subset of a list\n",
    "fruits = [\"apple\", \"banana\", \"cherry\", \"orange\", \"kiwi\", \"melon\", \"mango\"]\n",
    "print(fruits[2:5])"
   ]
  },
  {
   "cell_type": "code",
   "execution_count": null,
   "id": "feb585eb",
   "metadata": {},
   "outputs": [
    {
     "name": "stdout",
     "output_type": "stream",
     "text": [
      "7\n"
     ]
    }
   ],
   "source": [
    "# Question 13:\n",
    "# Printing the number of items in list\n",
    "fruits = [\"apple\", \"banana\", \"cherry\", \"orange\", \"kiwi\", \"melon\", \"mango\"]\n",
    "print(len(fruits))"
   ]
  },
  {
   "cell_type": "code",
   "execution_count": 36,
   "id": "4c8ed75d",
   "metadata": {},
   "outputs": [
    {
     "name": "stdout",
     "output_type": "stream",
     "text": [
      "['mango', 'melon', 'kiwi', 'orange', 'cherry', 'banana', 'apple']\n"
     ]
    }
   ],
   "source": [
    "# Question 14:\n",
    "# Sorting a list in reverse order\n",
    "fruits = [\"apple\", \"banana\", \"cherry\", \"orange\", \"kiwi\", \"melon\", \"mango\"]\n",
    "fruits.reverse()\n",
    "print(fruits)"
   ]
  }
 ],
 "metadata": {
  "kernelspec": {
   "display_name": "Python 3",
   "language": "python",
   "name": "python3"
  },
  "language_info": {
   "codemirror_mode": {
    "name": "ipython",
    "version": 3
   },
   "file_extension": ".py",
   "mimetype": "text/x-python",
   "name": "python",
   "nbconvert_exporter": "python",
   "pygments_lexer": "ipython3",
   "version": "3.13.5"
  }
 },
 "nbformat": 4,
 "nbformat_minor": 5
}
