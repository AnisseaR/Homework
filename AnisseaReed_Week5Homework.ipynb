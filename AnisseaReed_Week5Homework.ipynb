{
 "cells": [
  {
   "cell_type": "markdown",
   "id": "67ed85e9",
   "metadata": {},
   "source": [
    "## Anissea Reed - Section 5 Homework\n",
    "\n",
    "1. Pandas stands for either \n",
    "    * Python Data\n",
    "    * Python Data Analysis\n",
    "\n",
    "1. The two collections Pandas uses is Series and Dataframe.\n",
    "\n",
    "1. 4 things Pandas can do \n",
    "    * Data Cleansing \n",
    "    * Data normalization \n",
    "    * Data visualization\n",
    "    * Data inspection \n",
    "\n",
    "1. To permanently sort a Dataframe one should use inplace = True \n",
    "\n",
    "1. A CSV or a Comma Separted Values file contains plain text in a well known format that can be used by everyone.\n",
    "\n",
    "1. When cleaning data we do not like NULLs in our data.\n"
   ]
  },
  {
   "cell_type": "code",
   "execution_count": 1,
   "id": "62ce653e",
   "metadata": {},
   "outputs": [
    {
     "name": "stdout",
     "output_type": "stream",
     "text": [
      "[[[0. 0.]\n",
      "  [0. 0.]\n",
      "  [0. 0.]]\n",
      "\n",
      " [[0. 0.]\n",
      "  [0. 0.]\n",
      "  [0. 0.]]]\n",
      "[ 1.   4.8  8.6 12.4 16.2 20. ]\n",
      "[ 1.   4.8  8.6 12.4 16.2 20. ]\n"
     ]
    }
   ],
   "source": [
    "import numpy as np\n",
    "\n",
    "# 7. Creating an array using np.zeros\n",
    "\n",
    "arr1 = np.zeros((2, 3, 2))\n",
    "print(arr1)\n",
    "\n",
    "# 8. Using .linspace() to create an array with 6 values between 1 and 20\n",
    "\n",
    "arr2 = np.linspace(1, 20, 6)\n",
    "print(arr2) \n",
    "\n",
    "# 9. Making a deep copy of arr2 into arr3\n",
    "\n",
    "arr3 = arr2.copy()\n",
    "print(arr3)\n",
    "\n"
   ]
  },
  {
   "cell_type": "code",
   "execution_count": 3,
   "id": "4d7c47ad",
   "metadata": {},
   "outputs": [
    {
     "name": "stdout",
     "output_type": "stream",
     "text": [
      "[[25 16]\n",
      " [11  2]\n",
      " [13  4]\n",
      " [ 7 81]\n",
      " [ 5  6]\n",
      " [11 12]]\n"
     ]
    }
   ],
   "source": [
    "# 10. Concatening 3 Arrays\n",
    "\n",
    "arr4 = np.array([[25, 16]])\n",
    "arr5 = np.array([[11, 2], [13, 4]])\n",
    "arr6 = np.array([[7, 81], [5, 6], [11, 12]])\n",
    "newArray = np.concatenate((arr4, arr5, arr6), axis=0)\n",
    "print(newArray)"
   ]
  },
  {
   "cell_type": "code",
   "execution_count": 4,
   "id": "c905e034",
   "metadata": {},
   "outputs": [
    {
     "name": "stdout",
     "output_type": "stream",
     "text": [
      "[[16 25]\n",
      " [ 2 11]\n",
      " [ 4 13]\n",
      " [ 7 81]\n",
      " [ 5  6]\n",
      " [11 12]]\n"
     ]
    }
   ],
   "source": [
    "# 11. Sorting \"newArray\" \n",
    "\n",
    "sortedArray = np.sort(newArray)\n",
    "print(sortedArray)"
   ]
  },
  {
   "cell_type": "code",
   "execution_count": 5,
   "id": "71660b8a",
   "metadata": {},
   "outputs": [
    {
     "name": "stdout",
     "output_type": "stream",
     "text": [
      "[[25 16]]\n",
      "[[11  2]\n",
      " [13  4]]\n",
      "[[ 7 81]\n",
      " [ 5  6]]\n",
      "[[11 12]]\n"
     ]
    }
   ],
   "source": [
    "# 12. Unpacking the array tuples into 4 variables\n",
    "\n",
    "tuple1 = newArray[0:1]\n",
    "tuple2 = newArray[1:3]\n",
    "tuple3 = newArray[3:5]\n",
    "tuple4 = newArray[5:6]\n",
    "print(tuple1)\n",
    "print(tuple2)\n",
    "print(tuple3)\n",
    "print(tuple4)"
   ]
  },
  {
   "cell_type": "code",
   "execution_count": 6,
   "id": "cb51fb70",
   "metadata": {},
   "outputs": [
    {
     "name": "stdout",
     "output_type": "stream",
     "text": [
      "[10 11 12 13 14 15 16 17]\n",
      "[20 21 22 23 24 25 26 27]\n",
      "[0 1 2 3 4 5 6 7]\n",
      "[10 11 12 13 14 15 16 17 20 21 22 23 24 25 26 27  0  1  2  3  4  5  6  7]\n",
      "[ 0  1  2  3  4  5  6  7 10 11 12 13 14 15 16 17 20 21 22 23 24 25 26 27]\n"
     ]
    }
   ],
   "source": [
    "# 13. Concatenating three arrays together then sorting them\n",
    "\n",
    "one = np.array([10, 11, 12, 13, 14, 15, 16, 17])\n",
    "two = np.array([20, 21, 22, 23, 24, 25, 26, 27])\n",
    "three = np.array([ 0, 1, 2, 3, 4, 5, 6, 7]) \n",
    "print(one)\n",
    "print(two)\n",
    "print(three)\n",
    "\n",
    "comboArray = np.concatenate((one, two, three))\n",
    "print(comboArray)\n",
    "\n",
    "sortedcomboArray = np.sort(comboArray)\n",
    "print(sortedcomboArray)\n"
   ]
  },
  {
   "cell_type": "code",
   "execution_count": null,
   "id": "3613251e",
   "metadata": {},
   "outputs": [
    {
     "name": "stdout",
     "output_type": "stream",
     "text": [
      "[1]\n",
      "[ 2  3  4  5  6  7 10 11 12 13 14 15 16 17 20 21 22 23 24 25 26 27]\n",
      "[ 3  4  5  6  7 10 11 12 13 14 15 16]\n",
      "[22 23 24 25 26 27]\n",
      "[ 0  1  2  3  4  5  6  7 10 11 12 13 14 15]\n",
      "[20 22 24 26]\n",
      "[27 22 15 10  3]\n"
     ]
    }
   ],
   "source": [
    "# 14. Slicing comboArray\n",
    "\n",
    "sec1 = sortedcomboArray[1:2]\n",
    "print(sec1)\n",
    "sec2 = sortedcomboArray[2:24]\n",
    "print(sec2)\n",
    "sec3 = sortedcomboArray[3:15]\n",
    "print(sec3)\n",
    "sec4 = sortedcomboArray[-6:]\n",
    "print(sec4)\n",
    "sec5 = sortedcomboArray[:-8]\n",
    "print(sec5)\n",
    "sec6 = sortedcomboArray[20::2]\n",
    "print(sec6)\n",
    "sec7 = sortedcomboArray[::-5]\n",
    "print(sec7)"
   ]
  },
  {
   "cell_type": "code",
   "execution_count": null,
   "id": "0b9cc732",
   "metadata": {},
   "outputs": [
    {
     "name": "stdout",
     "output_type": "stream",
     "text": [
      "  Ingredients  Quantity   Unit\n",
      "0       Flour         4   cups\n",
      "1        Milk         1    cup\n",
      "2        Eggs         2  large\n",
      "3        Spam         1    can\n"
     ]
    }
   ],
   "source": [
    "import pandas as pd\n",
    "\n",
    "# Creating a Dataframe named Dinner\n",
    "\n",
    "Dinner = {\n",
    "    \"Ingredients\": [\"Flour\", \"Milk\", \"Eggs\", \"Spam\"],\n",
    "    \"Quantity\": [4, 1, 2, 1],\n",
    "    \"Unit\": [\"cups\", \"cup\", \"large\", \"can\"]\n",
    "}\n",
    "Results = pd.DataFrame(Dinner)\n",
    "print(Results)"
   ]
  },
  {
   "cell_type": "code",
   "execution_count": 21,
   "id": "daeeead1",
   "metadata": {},
   "outputs": [
    {
     "name": "stdout",
     "output_type": "stream",
     "text": [
      "      Name  Height Qualification  address  Age        Pets           sport\n",
      "0      Jai     5.1           Msc    Delhi   21         Dog           Darts\n",
      "1  janusha     6.2            MA     Doha   23       Bunny      Basketball\n",
      "2   Gaurav     5.1           Msc  Chennai   24  Chinchilla  Paddleboarding\n",
      "3     Anuj     5.2           Msc   Dakhar   21      Parrot         Cricket\n",
      "0       ice cream\n",
      "1    Cashew Fudge\n",
      "2         waffels\n",
      "3    Carrot Halwa\n",
      "dtype: object\n",
      "      Name  Height Qualification  address  Age        Pets           sport  \\\n",
      "0      Jai     5.1           Msc    Delhi   21         Dog           Darts   \n",
      "1  janusha     6.2            MA     Doha   23       Bunny      Basketball   \n",
      "2   Gaurav     5.1           Msc  Chennai   24  Chinchilla  Paddleboarding   \n",
      "3     Anuj     5.2           Msc   Dakhar   21      Parrot         Cricket   \n",
      "\n",
      "        Deserts  \n",
      "0     ice cream  \n",
      "1  Cashew Fudge  \n",
      "2       waffels  \n",
      "3  Carrot Halwa  \n",
      "None\n"
     ]
    }
   ],
   "source": [
    "import pandas as pd\n",
    "\n",
    "# Creating a Dataframe named studentData \n",
    "\n",
    "studentData = {\n",
    "    'Name': ['Jai', 'janusha', 'Gaurav', 'Anuj'],\n",
    "    'Height': [5.1, 6.2, 5.1, 5.2],\n",
    "    'Qualification': ['Msc', 'MA', 'Msc', 'Msc'],\n",
    "    'address': ['Delhi', 'Doha', 'Chennai', 'Dakhar'],\n",
    "    'Age': [21, 23, 24, 21],\n",
    "    'Pets': ['Dog', 'Bunny', 'Chinchilla', 'Parrot'],\n",
    "    'sport': ['Darts', 'Basketball', 'Paddleboarding', 'Cricket']\n",
    "}\n",
    "studentData = pd.DataFrame(studentData)\n",
    "print(studentData)\n",
    "\n",
    "# Adding deserts series to the dataframe\n",
    "\n",
    "deserts = pd.Series(['ice cream', 'Cashew Fudge', 'waffels', 'Carrot Halwa'])\n",
    "print(deserts)\n",
    "\n",
    "studentData['Deserts'] = deserts\n",
    "print(studentData)\n",
    "\n",
    "# Sorting by column \"Name\" and \"address\"\n",
    "\n",
    "sortedstudentData = studentData.sort_values(by= ['Name', 'address'], ascending=True, inplace=True)\n",
    "print(sortedstudentData)"
   ]
  },
  {
   "cell_type": "code",
   "execution_count": 20,
   "id": "f155aec9",
   "metadata": {},
   "outputs": [
    {
     "name": "stdout",
     "output_type": "stream",
     "text": [
      "        Cows  Goats\n",
      "Year 1    12     22\n",
      "Year 2    20     19\n"
     ]
    }
   ],
   "source": [
    "import pandas as pd\n",
    "\n",
    "# Creating a Dataframe named \"cows_and_goats\"\n",
    "\n",
    "cows_and_goats = pd.DataFrame(\n",
    "        {'Cows': [12, 20], \n",
    "         'Goats': [22, 19]}, \n",
    "         index=['Year 1', 'Year 2']\n",
    ")\n",
    "print(cows_and_goats)\n",
    "\n",
    "# Saving \"cows_and_goats\" as a CSV file\n",
    "\n",
    "studentData.to_csv(\"C:/Users/Anissea/Documents/cows_and_goats.csv\", index=False)"
   ]
  },
  {
   "cell_type": "code",
   "execution_count": 26,
   "id": "ca26a520",
   "metadata": {},
   "outputs": [
    {
     "name": "stdout",
     "output_type": "stream",
     "text": [
      "   Vegetable  Quantity  Price\n",
      "0     Celery         4   1.50\n",
      "1  Cucumbers         6   1.00\n",
      "2    Carrots        12   0.50\n",
      "3   Tomatoes         8   1.75\n",
      "4   Potatoes        20   0.25\n",
      "   Vegetable  Quantity  Price\n",
      "0     Celery         4   2.00\n",
      "1  Cucumbers         6   2.50\n",
      "2    Carrots        12   1.00\n",
      "3   Tomatoes         8   3.00\n",
      "4   Potatoes        20   0.75\n"
     ]
    }
   ],
   "source": [
    "import pandas as pd\n",
    "\n",
    "# Creating a Dataframe about vegetable data\n",
    "\n",
    "vegetableData = {\n",
    "    'Vegetable': ['Celery', 'Cucumbers', 'Carrots', 'Tomatoes', 'Potatoes'],\n",
    "    'Quantity': [4, 6, 12, 8, 20],\n",
    "    'Price': [1.5, 1.0, 0.5, 1.75, 0.25]\n",
    "}\n",
    "vegetableData = pd.DataFrame(vegetableData)\n",
    "print(vegetableData)\n",
    "\n",
    "# Saving vegetableData as a CSV file\n",
    "\n",
    "vegetableData.to_csv(\"C:/Users/Anissea/Documents/vegetableData.csv\", index=False)\n",
    "\n",
    "# Making changes to \"Price\" column in vegetableData\n",
    "\n",
    "vegetableData['Price'] = [2.0, 2.5, 1.0, 3.0, 0.75]\n",
    "print(vegetableData)\n",
    "\n",
    "# Updating vegetableData CSV file\n",
    "\n",
    "vegetableData.to_csv(\"C:/Users/Anissea/Documents/vegetableData-updated.csv\", index=False)"
   ]
  }
 ],
 "metadata": {
  "kernelspec": {
   "display_name": "Python 3",
   "language": "python",
   "name": "python3"
  },
  "language_info": {
   "codemirror_mode": {
    "name": "ipython",
    "version": 3
   },
   "file_extension": ".py",
   "mimetype": "text/x-python",
   "name": "python",
   "nbconvert_exporter": "python",
   "pygments_lexer": "ipython3",
   "version": "3.13.5"
  }
 },
 "nbformat": 4,
 "nbformat_minor": 5
}
